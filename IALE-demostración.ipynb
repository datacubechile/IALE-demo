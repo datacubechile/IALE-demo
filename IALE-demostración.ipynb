{
 "cells": [
  {
   "cell_type": "markdown",
   "id": "62a75be7-3756-4e4b-92db-661410b6be28",
   "metadata": {},
   "source": [
    "# Welcome to Data Cube Chile <img align=\"right\" width=\"200\" src=\"http://datacubechile.cl/wp-content/uploads/2022/06/datacube-chile-transparente.png\">\n",
    "\n",
    "This notebook will introduce new users to working with the Data Cube Chile and EASI Jupyter notebooks.\n",
    "\n",
    "Data Cube Chile uses the [Open Data Cube](https://opendatacube.org) software and CSIRO's [Earth Analytics Science & Innovation](https://research.csiro.au/easi/) (EASI) platform)."
   ]
  },
  {
   "attachments": {},
   "cell_type": "markdown",
   "id": "284bf218-c44a-4fee-915d-8032fdb61bbe",
   "metadata": {},
   "source": [
    "Useful links & references:\n",
    "- #### https://opendatacube.readthedocs.io/\n",
    "- #### https://github.com/opendatacube\n",
    "- ##### https://github.com/csiro-easi/easi-notebooks\n",
    "- ##### https://knowledge.dea.ga.gov.au/dea-notebooks/\n",
    "- ##### https://docs.digitalearthafrica.org/en/latest/sandbox/notebooks/Beginners_guide\n",
    "- ##### https://raw.githubusercontent.com/opendatacube/datacube-core/develop/docs/cheatsheets/ODC_Cheatsheet.pdf\n",
    "<div>\n",
    "    <a href=\"https://github.com/opendatacube/datacube-core/tree/develop/docs/cheatsheets\">\n",
    "        <img width=\"600\" src=\"https://github.com/opendatacube/datacube-core/blob/develop/docs/cheatsheets/ODC_Cheatsheet.jpg?raw=true\">\n",
    "    </a>\n",
    "</div>"
   ]
  },
  {
   "cell_type": "markdown",
   "id": "45dc5534-a8ea-4ef0-8d00-a66e1d90829c",
   "metadata": {},
   "source": [
    "## Notebook setup\n",
    "\n",
    "A notebook consists of cells that contain either __text descriptions__ or __python code__ for performing operations on data.\n",
    "\n",
    "Start by clicking on the cell below to select it. Then execute a selected cell (or each cell in sequence) by clicking the \"play\" button (in the toolbar above) or pressing `Shift`+`Enter`.\n",
    "\n",
    "Each cell will show an asterisk icon <font color='#999'>[*]:</font> when it is running. Once this changes to a number, the cell has finished."
   ]
  },
  {
   "cell_type": "markdown",
   "id": "c629ae30-3a50-458a-8b17-dc7fbaf4d4a9",
   "metadata": {},
   "source": [
    "#### Imports\n",
    "These are a standard set of imports that we use across many notebooks"
   ]
  },
  {
   "cell_type": "code",
   "execution_count": null,
   "id": "22a243b7-7421-40de-9417-759b0bb01513",
   "metadata": {},
   "outputs": [],
   "source": [
    "# Data tools\n",
    "import numpy as np\n",
    "import xarray as xr\n",
    "import rioxarray\n",
    "import pandas as pd\n",
    "from datetime import datetime\n",
    "pd.set_option('max_colwidth', 120)\n",
    "\n",
    "# Datacube\n",
    "import datacube\n",
    "from datacube.utils import masking  # https://github.com/opendatacube/datacube-core/blob/develop/datacube/utils/masking.py\n",
    "from odc.algo import enum_to_bool   # https://github.com/opendatacube/odc-tools/blob/develop/libs/algo/odc/algo/_masking.py\n",
    "from datacube.utils.rio import configure_s3_access\n",
    "\n",
    "import matplotlib.pyplot as plt\n",
    "\n",
    "# Python\n",
    "import sys, os, re"
   ]
  },
  {
   "cell_type": "code",
   "execution_count": null,
   "id": "68db3a6d-b5f3-4986-b2a4-29ec8f30d6fd",
   "metadata": {},
   "outputs": [],
   "source": [
    "# Optional EASI tools\n",
    "sys.path.append(os.path.expanduser('~/IALE-demo/scripts'))\n",
    "from easi_tools import EasiDefaults\n",
    "import notebook_utils\n",
    "easi = EasiDefaults()\n",
    "\n",
    "from app_utils import animated_timeseries\n",
    "import app_utils"
   ]
  },
  {
   "cell_type": "markdown",
   "id": "71e016d6-956a-4bd7-b4d5-4b3e56381532",
   "metadata": {},
   "source": [
    "## Introduction to Dask"
   ]
  },
  {
   "cell_type": "markdown",
   "id": "2474561d-806d-4d4c-a8d6-5557cb9b6760",
   "metadata": {},
   "source": [
    "Firstly, a few notes on terminology. A Dask Cluster is comprised of a __client__, a __scheduler__, and __workers__. These terms will be used throughout this tutorial. Figure 1 below shows the relationship between each of these components. The __client__ submits tasks to the __scheduler__, which decides how to submit the tasks to individual workers. During this process, the scheduler creates what is called a __Task Graph__. This is essentially a map of the tasks that need to be carried out. Figure 2 shows an example of a simple task graph (see https://docs.dask.org/en/stable/graphs.html for more information. __Workers__ carry out the actual calculations and either store the results or send them back to the client.\n",
    "\n",
    "<div>\n",
    "    <span style=\"border:solid 1px #888;float:left;padding:10px;margin-right:25px;width:550px\">\n",
    "        <img src=\"images/distributed-overview.png\">\n",
    "        <figcaption><em>Figure 1. Overview of a Dask Cluster.</em></figcaption>\n",
    "    </span>\n",
    "</div>"
   ]
  },
  {
   "cell_type": "code",
   "execution_count": null,
   "id": "5b0e09a7-4939-4dac-9dd9-63b7e8619280",
   "metadata": {},
   "outputs": [],
   "source": [
    "def increment(i):\n",
    "    return i + 1\n",
    "\n",
    "def add(a, b):\n",
    "    return a + b\n",
    "\n",
    "x = 1\n",
    "y = increment(x)\n",
    "z = add(y, 10)"
   ]
  },
  {
   "cell_type": "code",
   "execution_count": null,
   "id": "1c241962-6371-43bd-8f34-62f786218f4e",
   "metadata": {},
   "outputs": [],
   "source": [
    "print(f'The value of z is {z}')"
   ]
  },
  {
   "cell_type": "markdown",
   "id": "be23a7a5-b9ef-4382-b21e-790f689bb511",
   "metadata": {},
   "source": [
    "<div>\n",
    "    <span style=\"border:solid 1px #888;float:left;padding:10px;margin-left:25px;width:150px\">\n",
    "        <img src=\"images/dask-simple.png\">\n",
    "        <figcaption><em>Figure 2. A simple Task Graph.</em></figcaption>\n",
    "    </span>\n",
    "</div>"
   ]
  },
  {
   "cell_type": "markdown",
   "id": "3279fae7-ddb4-4c51-b93a-33ad083baced",
   "metadata": {},
   "source": [
    "Dask has several core data types, including __Dask DataFrames__ and __Dask Arrays__. Essentially, Dask DataFrames are parallelized Pandas DataFrames (Figure 3) and Dask Arrays are parallelized Numpy arrays (Figure 4).\n",
    "<div>\n",
    "    </span>\n",
    "    <span style=\"border:solid 1px #888;float:left;padding:10px;margin-left:25px;width:300px\">\n",
    "        <img src=\"images/dask-array.svg\">\n",
    "        <figcaption><em>Figure 3. A Dask Array is a subset of the NumPy <code>ndarray</code> interface using blocked algorithms, cutting up the large array into many small arrays.</em></figcaption>\n",
    "    </span>\n",
    "</div>"
   ]
  },
  {
   "cell_type": "markdown",
   "id": "cdb60536-3db1-4085-b15b-f24f960f3ce7",
   "metadata": {},
   "source": [
    "More complex examples result in more complex Task Graphs:\n",
    "<div>\n",
    "    <img src=\"https://blog.dask.org/images/custom-etl.png\">\n",
    "</div>"
   ]
  },
  {
   "cell_type": "markdown",
   "id": "ff6b16d5-7bf1-41ce-b92e-0056abfc5068",
   "metadata": {},
   "source": [
    "We can also use the Dask Dashboard to watch our calculations progress in parallel:\n",
    "<div>\n",
    "    <img src=\"https://blog.dask.org/images/task-stream-custom-etl.gif\">\n",
    "</div>"
   ]
  },
  {
   "cell_type": "markdown",
   "id": "518ca906-29fc-482e-8dad-c9468168e99d",
   "metadata": {},
   "source": [
    "## Dask computing environment\n",
    "\n",
    "In EASI, each notebook starts by defining a Dask cluster for the notebook to use.\n",
    "\n",
    "> For more information regarding Dask, see the addtional introductory notebooks on Dask or visit the [Dask Website](https://dask.org).\n",
    "\n",
    "The are two main methods for setting up your dask cluster: \n",
    "1. **Local dask cluster**\n",
    "    - Provides a dask multiprocessing environment on your Jupyter node. Useful for processing data volumes that don't exceed the Jupyter node limits, which are currently set at `cores = 8, memory = 32 GB` (2x large)\n",
    "\n",
    "\n",
    "1. **Dask Gateway**\n",
    "    - Provides a scalable compute cluster in EASI for your use. You can (*should*) use the same cluster across each of your notebooks (a separate cluster per notebook would unnessarily use EASI resources).\n",
    "    - For most notebooks and data analysis start with `2 to 4 workers` (adaptive). Dask gateway is limited to 20 workers per user.\n",
    "    - It is normal for this step to take **3 to 5 minutes** if new computing nodes need to be generated\n",
    "\n",
    "**This notebook will use a local cluster**"
   ]
  },
  {
   "cell_type": "markdown",
   "id": "3cafcd2a-83d9-4e1c-a215-30686a22497d",
   "metadata": {},
   "source": [
    "### Local dask cluster\n",
    "\n",
    "For local cluster options, see https://docs.dask.org/en/latest/setup/single-distributed.html\n",
    "\n",
    "The Dask Dashboard link shown after the following cell is a helpful resource to explore the activity and state of your dask cluster."
   ]
  },
  {
   "cell_type": "code",
   "execution_count": null,
   "id": "c3a0c4cb-7d6d-46c2-b079-f71735592ea8",
   "metadata": {
    "tags": []
   },
   "outputs": [],
   "source": [
    "cluster, client = notebook_utils.initialize_dask(use_gateway=False)\n",
    "display(cluster if cluster else client)"
   ]
  },
  {
   "cell_type": "markdown",
   "id": "5da7b8a4-be2d-4a49-b4c5-b0b1f81a7f5d",
   "metadata": {},
   "source": [
    "- simple load landsat 8 data example\n",
    "- calculate NDVI filtered by landuse\n",
    "- calculate temperature timeseries by landuse"
   ]
  },
  {
   "cell_type": "markdown",
   "id": "f7ab12f3-403a-4a46-bde2-723e35b2a9ce",
   "metadata": {},
   "source": [
    "## Access public requester pays buckets\n",
    "\n",
    "EASI OpenDataCube can index and use datasets stored in public S3 \"requester pays\" buckets. Requester pays means that use of the data is charged at the time of use. The charges are relatively low for normal exploratory analysis and within the same Data Center.\n",
    "\n",
    "> For larger analyses or between Data Centers please contact us for advice as there may be more cost-effective ways to do your analysis that we can explore with you.\n",
    "\n",
    "To use data in public requester pays buckets, run the following code (once per dask cluster):\n",
    "\n",
    "**All Landsat (e.g. landsat5_c2l2_sr, landsat9_c2l2_st, etc) and Sentinel-2 (s2_l2a) products require this setting**"
   ]
  },
  {
   "cell_type": "code",
   "execution_count": null,
   "id": "f6b43e83-2371-4b16-894b-d84331d8fe10",
   "metadata": {
    "tags": []
   },
   "outputs": [],
   "source": [
    "\"\"\"This function obtains credentials for S3 access and passes them on to\n",
    "   processing threads, either local or on dask cluster.\n",
    "   Note that AWS credentials may need to be renewed between sessions or\n",
    "   after a period of time.\"\"\"\n",
    "\n",
    "from datacube.utils.aws import configure_s3_access\n",
    "configure_s3_access(aws_unsigned=False, requester_pays=True, client=client)\n",
    "\n",
    "# If not using a dask cluster then remove 'client':\n",
    "# configure_s3_access(aws_unsigned=False, requester_pays=True)"
   ]
  },
  {
   "cell_type": "markdown",
   "id": "823d008c-2f35-4405-92ac-def48dcfd0c5",
   "metadata": {},
   "source": [
    "## Connect to the OpenDataCube\n",
    "Your EASI Hub environment has been setup with default credentials to access the EASI OpenDataCube "
   ]
  },
  {
   "cell_type": "code",
   "execution_count": null,
   "id": "bc958443-e354-4e13-9e28-71a74d9842ee",
   "metadata": {
    "tags": []
   },
   "outputs": [],
   "source": [
    "import datacube\n",
    "dc = datacube.Datacube()\n",
    "datacube.__version__"
   ]
  },
  {
   "cell_type": "markdown",
   "id": "1bfd2741-3cad-4f86-82a7-be36b719293c",
   "metadata": {},
   "source": [
    "### List available products\n",
    "\n",
    "Get all available products and list them along with selected properties.\n",
    "\n",
    "> View available products and data coverage at the data cube Explorer: https://explorer.datacubechile.cl"
   ]
  },
  {
   "cell_type": "code",
   "execution_count": null,
   "id": "8b12bb29-2fab-4341-86ce-0d6665579656",
   "metadata": {
    "tags": []
   },
   "outputs": [],
   "source": [
    "products = dc.list_products()\n",
    "\n",
    "# The output of list_products() changed between datacube versions 1.8.4 and 1.8.6\n",
    "selected_columns = products.columns\n",
    "if 'default_crs' not in selected_columns:\n",
    "    selected_columns = [\"name\", \"description\", \"platform\", \"crs\", \"resolution\"]\n",
    "products[selected_columns]"
   ]
  },
  {
   "cell_type": "code",
   "execution_count": null,
   "id": "5db5f926-ab0f-4638-a055-7d1e0f895576",
   "metadata": {},
   "outputs": [],
   "source": [
    "measurements = dc.list_measurements()\n",
    "measurements.loc['landsat8_c2l2_sr']"
   ]
  },
  {
   "cell_type": "markdown",
   "id": "9c7df4d4-16ae-4979-bb9b-cd0bfd399d28",
   "metadata": {},
   "source": [
    "### Load some data\n",
    "#### Set some query parameters"
   ]
  },
  {
   "cell_type": "code",
   "execution_count": null,
   "id": "1f506613-02d6-4dec-be84-45db64c9368d",
   "metadata": {
    "tags": []
   },
   "outputs": [],
   "source": [
    "study_area_lat = (-32.6, -32.45)\n",
    "study_area_lon = (-71.5, -71.35)\n",
    "\n",
    "product = 'landsat8_c2l2_sr'\n",
    "\n",
    "set_time = ('2024-04-01', '2025-03-31')\n",
    "\n",
    "set_crs = 'EPSG:32719'\n",
    "\n",
    "set_resolution = (-30, 30) # (N, E) - El punto de referencia para la mayoría de los geotiffs está en la parte superior izquierda."
   ]
  },
  {
   "cell_type": "code",
   "execution_count": null,
   "id": "c954726a-1989-453f-b1de-c0b2facde616",
   "metadata": {},
   "outputs": [],
   "source": [
    "app_utils.display_map(x=study_area_lon, y=study_area_lat)"
   ]
  },
  {
   "cell_type": "markdown",
   "id": "e2980e42-4763-4fe7-bd55-dac9bc593ddb",
   "metadata": {},
   "source": [
    "#### Use `dc.load()` to load data as an <span style=\"font-size:22px\">xarray Dataset</span><img style=\"float:right\" width=\"150px\" src=\"https://docs.xarray.dev/en/stable/_static/logos/Xarray_Logo_RGB_Final.png\">"
   ]
  },
  {
   "cell_type": "code",
   "execution_count": null,
   "id": "4427bc5e-909c-4274-8c04-f95a830424c6",
   "metadata": {
    "tags": []
   },
   "outputs": [],
   "source": [
    "data = dc.load(\n",
    "    product=product, \n",
    "    latitude=study_area_lat,\n",
    "    longitude=study_area_lon,\n",
    "    time=set_time,\n",
    "    output_crs=set_crs,\n",
    "    resolution=set_resolution,\n",
    "    group_by='solar_day',\n",
    "    dask_chunks={'time':1}\n",
    ")\n",
    "\n",
    "display(data)"
   ]
  },
  {
   "cell_type": "markdown",
   "id": "fa9edd40-308f-4888-859c-bf65c63a6031",
   "metadata": {},
   "source": [
    "### NOTE:\n",
    "This next step is not normally done at this point and it is only being used for this workshop, as it forces Dask to load all of the data into memory. This is only possible here because we are loading a small amount of data.\n",
    "\n",
    "This is not a very efficient way to work, but is useful to help in this workshop to make the visualisations run faster\n",
    "\n",
    "To do more complex calculations, <span style=\"color:red;\">do not use this step</span>"
   ]
  },
  {
   "cell_type": "code",
   "execution_count": null,
   "id": "3d926f90-efd2-4da5-bede-57edd37f3eb2",
   "metadata": {},
   "outputs": [],
   "source": [
    "data = data.compute()"
   ]
  },
  {
   "cell_type": "code",
   "execution_count": null,
   "id": "a806ee03-143d-45a4-911e-bb9ba047c7f9",
   "metadata": {},
   "outputs": [],
   "source": [
    "data"
   ]
  },
  {
   "cell_type": "markdown",
   "id": "82d9e94b-c8e7-4f42-92e7-3f8c4eecf476",
   "metadata": {},
   "source": [
    "#### Visualise one band for one scene"
   ]
  },
  {
   "cell_type": "code",
   "execution_count": null,
   "id": "60001fb1-181a-4f05-8c2b-ec6adf2e88b0",
   "metadata": {},
   "outputs": [],
   "source": [
    "data.red.isel(time=3).plot(robust=True, size=8, aspect=1)"
   ]
  },
  {
   "cell_type": "markdown",
   "id": "31c9e1e2-81c8-4d2f-8a2c-38378eaca358",
   "metadata": {},
   "source": [
    "#### Combine bands to load a true colour image"
   ]
  },
  {
   "cell_type": "code",
   "execution_count": null,
   "id": "77055f1b-e0f8-4a88-882f-538e261ff608",
   "metadata": {},
   "outputs": [],
   "source": [
    "data[['red','green','blue']].isel(time=3).to_array().plot.imshow(robust=True, size=8, aspect=1)"
   ]
  },
  {
   "cell_type": "code",
   "execution_count": null,
   "id": "74a48150-6ed4-41d7-af29-d2fbb773d37e",
   "metadata": {},
   "outputs": [],
   "source": [
    "data[['swir22','nir08','red']].isel(time=3).to_array().plot.imshow(robust=True, size=8, aspect=1)"
   ]
  },
  {
   "cell_type": "markdown",
   "id": "4f07ba5b-11a4-44c1-8f00-3f6e90d9607f",
   "metadata": {},
   "source": [
    "#### Visualise all dates (true colour)"
   ]
  },
  {
   "cell_type": "code",
   "execution_count": null,
   "id": "e0fb7c67-973a-49d7-9449-a4530b776713",
   "metadata": {},
   "outputs": [],
   "source": [
    "data[['red','green','blue']].sel(time='2025').to_array().plot.imshow(col='time', col_wrap=4, robust=True, aspect=1)"
   ]
  },
  {
   "cell_type": "markdown",
   "id": "beb7cc89-8e92-4729-bf9e-5e76960c83dc",
   "metadata": {},
   "source": [
    "#### All the clouds make it difficult to see the data, so we can change the scaling to show the land"
   ]
  },
  {
   "cell_type": "code",
   "execution_count": null,
   "id": "8f522aa9-8839-4699-95e4-160c528b0b32",
   "metadata": {},
   "outputs": [],
   "source": [
    "data[['red','green','blue']].sel(time='2025').to_array().plot.imshow(col='time', col_wrap=4, vmin=6000, vmax=12000, aspect=1)"
   ]
  },
  {
   "cell_type": "markdown",
   "id": "e3484102-bc6c-400b-b2ba-e1c8033583c8",
   "metadata": {},
   "source": [
    "### Cloud filtering\n",
    "\n",
    "There are different ways to filter for clouds and each satellite has its own metadata flags. This example works with Landsat data"
   ]
  },
  {
   "attachments": {},
   "cell_type": "markdown",
   "id": "6c760b2a-c6bd-4cfa-b3c6-08e242935528",
   "metadata": {},
   "source": [
    "#### See https://explorer.datacubechile.cl/products/landsat8_c2l2_sr to look at flag definitions "
   ]
  },
  {
   "cell_type": "code",
   "execution_count": null,
   "id": "864ad59a-22c5-4624-a9c9-3b1302848596",
   "metadata": {},
   "outputs": [],
   "source": [
    "measurements = dc.list_measurements().loc['landsat8_c2l2_sr']\n",
    "\n",
    "# Separate lists of measurement data names and flag names\n",
    "data_names = measurements[pd.isnull(measurements.flags_definition)].index\n",
    "flag_names = measurements[pd.notnull(measurements.flags_definition)]\n",
    "\n",
    "# Select one for use below\n",
    "flag_names"
   ]
  },
  {
   "cell_type": "code",
   "execution_count": null,
   "id": "e0f3f084-1eca-42f9-9380-a67d1c942824",
   "metadata": {},
   "outputs": [],
   "source": [
    "# Pandas table. First flags_definition measurement found\n",
    "masking.describe_variable_flags(data.qa_pixel)"
   ]
  },
  {
   "cell_type": "code",
   "execution_count": null,
   "id": "98a0b1d6-d040-4a00-bf05-3ec993aa3479",
   "metadata": {},
   "outputs": [],
   "source": [
    "data.qa_pixel.flags_definition"
   ]
  },
  {
   "cell_type": "code",
   "execution_count": null,
   "id": "9c976919-e3ad-4787-ad86-afdee75466eb",
   "metadata": {},
   "outputs": [],
   "source": [
    "flag_name = 'qa_pixel'"
   ]
  },
  {
   "cell_type": "markdown",
   "id": "412f3de1-6f52-4cbc-ab28-3d77e884bb5d",
   "metadata": {},
   "source": [
    "### Make a cloud mask\n",
    "\n",
    "The `make_mask()` returns a mask where `True` corresponds to the selected bits and values. These may considered as _good_ or _bad_ pixel flag selections depending on the application and the `flag_definition`.\n",
    "\n",
    "Define a dictionary of ___good___ pixel flags using values shown in the variable flags above `{'flag': 'value'}`.\n",
    "\n",
    ">__NOTE:__ The examples below are designed to work with the Landsat flags. Other products will have different flag definitions."
   ]
  },
  {
   "cell_type": "code",
   "execution_count": null,
   "id": "14c405cf-a679-4bf4-8af4-8186d8716a2c",
   "metadata": {},
   "outputs": [],
   "source": [
    "good_pixel_flags = {\n",
    "    'nodata': False,\n",
    "    'cloud': 'not_high_confidence',\n",
    "    'cloud_shadow': 'not_high_confidence',\n",
    "    'cirrus': 'not_high_confidence',\n",
    "    'water': 'land_or_cloud'\n",
    "}"
   ]
  },
  {
   "cell_type": "markdown",
   "id": "96cc951e-51da-474a-a3c1-f24b162223fc",
   "metadata": {},
   "source": [
    "Make a mask corresponding to the `good_pixel_flags` and plot the result.\n",
    "\n",
    "Below, we use `**good_pixel_flags` in the function. The use of `**` with a python dictionary like this expands the dictionary into individual parameters, so the two lines below are identical:\n",
    "\n",
    "```python\n",
    "mask = masking.make_mask(good_data, **good_pixel_flags)\n",
    "\n",
    "mask = masking.make_mask(good_data, nodata=False, cloud='not_high_confidence', cloud_shadow='not_high_confidence', cirrus='not_high_confidence', water='land_or_cloud')\n",
    "```"
   ]
  },
  {
   "cell_type": "code",
   "execution_count": null,
   "id": "02a67de2-439f-41d5-ab81-fd7d7c2ae3db",
   "metadata": {},
   "outputs": [],
   "source": [
    "# Make the mask:\n",
    "mask = masking.make_mask(data[flag_name], **good_pixel_flags)\n",
    "\n",
    "# Apply the mask:\n",
    "good_data = data.where(mask)\n",
    "\n",
    "fig = good_data[['red','green','blue']].sel(time='2025').to_array().plot.imshow(col='time', col_wrap=4, vmin=6000, vmax=12000, aspect=1)\n",
    "\n",
    "# Add background colour to plots\n",
    "for ax in fig.axs.flat:\n",
    "    ax.set_facecolor('#E8F4E2');"
   ]
  },
  {
   "cell_type": "markdown",
   "id": "9363516d-3b4e-4e14-afe7-d3a49b3d9e71",
   "metadata": {},
   "source": [
    "We can also summarise the percentage of good pixels per date"
   ]
  },
  {
   "cell_type": "code",
   "execution_count": null,
   "id": "130c5835-23da-4be0-8a90-3aa540438c16",
   "metadata": {},
   "outputs": [],
   "source": [
    "pixels = mask.shape[1] * mask.shape[2]\n",
    "percent = mask.sum(dim=['y','x']) / pixels *100\n",
    "fig = percent.plot()\n",
    "fig[0].axes.set_title('Percent good pixels by date');\n",
    "fig[0].axes.set_xlabel('Date');\n",
    "fig[0].axes.set_ylabel('%');"
   ]
  },
  {
   "cell_type": "code",
   "execution_count": null,
   "id": "5bc3b335-e93f-46de-8486-9bef4f9bc150",
   "metadata": {},
   "outputs": [],
   "source": [
    "good_data.where(percent.compute() > 40, drop=True).red.plot(col='time',col_wrap=4,robust=True)"
   ]
  },
  {
   "cell_type": "code",
   "execution_count": null,
   "id": "8064256c-88de-47e3-a228-5b671959a6d2",
   "metadata": {},
   "outputs": [],
   "source": [
    "good_data = good_data.drop_sel(time=good_data.sel(time='2024-06-29').time)\n",
    "good_data = good_data.where(percent.compute()>40, drop=True)\n",
    "good_data.red.plot(col='time',col_wrap=4,robust=True)"
   ]
  },
  {
   "cell_type": "markdown",
   "id": "18b50ec8-84e5-4af3-9d78-d1a264497e77",
   "metadata": {},
   "source": [
    "### Convert values to Surface Reflectance\n",
    "\n",
    "To save storage space, satellite data is stored as __Digital Numbers (DN)__, which are integers rather than floating point (decimal) values. For Landsat data, this results in valid integers between 7273 and 43636. These values can be used individually, although if combining bands or running calculations on data, these <span style=\"color:red;font-weight:bold;\">MUST</span> be converted to __Surface Reflectance (SR)__ values first. \n",
    "\n",
    "### $SR = (DN * 0.0000275) - 0.2$\n",
    "\n",
    "> Each satellite product (not just Landsat) has its own scaling factors. These should be investigated when using satellite data. Some are much easier, for example Sentinel 2 has a scaling factor of 1/10000 and an offset of 0. The offset of 0 means that the relationship between bands is not affected after scaling, so it is less critical, but still important to convert to Surface Reflectance before using the data.\n",
    "\n",
    "For more information on Landsat, see https://www.usgs.gov/faqs/how-do-i-use-a-scale-factor-landsat-level-2-science-products\n",
    "\n",
    "<table style=\"float:left;clear:both;\">\n",
    "\t<thead>\n",
    "\t\t<tr>\n",
    "\t\t\t<th>Science Product</th>\n",
    "\t\t\t<th>Scale Factor</th>\n",
    "\t\t\t<th>Additive<br>\n",
    "\t\t\tOffset</th>\n",
    "\t\t\t<th>Fill Value</th>\n",
    "\t\t\t<th>Data Type</th>\n",
    "\t\t\t<th>Valid Range</th>\n",
    "\t\t</tr>\n",
    "\t</thead>\n",
    "\t<tbody>\n",
    "\t\t<tr>\n",
    "\t\t\t<td><a href=\"https://www.usgs.gov/landsat-missions/landsat-collection-2-surface-reflectance\">Surface Reflectance</a></td>\n",
    "\t\t\t<td>0.0000275</td>\n",
    "\t\t\t<td>-0.2</td>\n",
    "\t\t\t<td>0</td>\n",
    "\t\t\t<td>Unsigned 16-bit integer</td>\n",
    "\t\t\t<td>7273-43636&nbsp;</td>\n",
    "\t\t</tr>\n",
    "\t\t<tr>\n",
    "\t\t\t<td><a href=\"https://www.usgs.gov/landsat-missions/landsat-collection-2-surface-temperature\">Surface Temperature</a></td>\n",
    "\t\t\t<td>0.00341802</td>\n",
    "\t\t\t<td>149</td>\n",
    "\t\t\t<td>0</td>\n",
    "\t\t\t<td>Unsigned 16-bit integer</td>\n",
    "\t\t\t<td>293 - 65535&nbsp;</td>\n",
    "\t\t</tr>\n",
    "\t</tbody>\n",
    "</table><div style=\"clear:both\">&nbsp;</div>\n"
   ]
  },
  {
   "cell_type": "markdown",
   "id": "f2c8446b-d885-4080-bfb4-e5451b5ae140",
   "metadata": {},
   "source": [
    "To apply the equation, we can either just apply the calculation directly on the DataSet, or we can use the `to_f32` function from the OpenDataCube's Algorithm (`odc.algo`) library:\n",
    "\n",
    "```python\n",
    "to_f32(x, scale, offset)\n",
    "```"
   ]
  },
  {
   "cell_type": "code",
   "execution_count": null,
   "id": "1ea47031-ef07-40f9-ab5d-ddd182bada39",
   "metadata": {},
   "outputs": [],
   "source": [
    "from odc.algo import to_f32"
   ]
  },
  {
   "cell_type": "code",
   "execution_count": null,
   "id": "9089e48c-1234-4847-83ec-392ef0ca2aa5",
   "metadata": {},
   "outputs": [],
   "source": [
    "# This should only be applied to the data bands. In this example, we select these by using the data_names list that we definied earlier\n",
    "data_scaled = to_f32(good_data[data_names],0.0000275,-0.2)"
   ]
  },
  {
   "cell_type": "code",
   "execution_count": null,
   "id": "15b1e169-eb6f-4da3-938d-1cae45dd85cd",
   "metadata": {},
   "outputs": [],
   "source": [
    "# The original data is in uint16 - unsigned 16-bit integers\n",
    "print(f'Min: {data.red.min().values}, Max: {data.red.max().values}')\n",
    "display(data)"
   ]
  },
  {
   "cell_type": "code",
   "execution_count": null,
   "id": "3027ba95-ad41-4b7e-ad2f-963ba1a87c71",
   "metadata": {},
   "outputs": [],
   "source": [
    "print(f'Min: {round(data_scaled.red.min().values.item(),3)}, Max: {round(data_scaled.red.max().values.item(),3)}')\n",
    "display(data_scaled)"
   ]
  },
  {
   "cell_type": "code",
   "execution_count": null,
   "id": "0ccc837e-1df0-4187-b8a6-0bdb54f74d0a",
   "metadata": {},
   "outputs": [],
   "source": [
    "data_scaled.red.isel(time=2).plot(robust=True, size=8, aspect=1, cmap='viridis')"
   ]
  },
  {
   "cell_type": "markdown",
   "id": "9f446c36-8b4d-41c6-adb6-86e0cf9a633e",
   "metadata": {},
   "source": [
    "### Calculate an index - NDVI"
   ]
  },
  {
   "cell_type": "markdown",
   "id": "cda3007d-eeaa-4be8-abf1-cd1a0e9d543f",
   "metadata": {},
   "source": [
    "__Normalised Difference Vegetation Index__\n",
    "<div style=\"float:left\">\n",
    "$$\n",
    "NDVI = {{NIR - RED} \\over {NIR + RED}}\n",
    "$$\n",
    "</div>"
   ]
  },
  {
   "cell_type": "markdown",
   "id": "545f4ab8-4d9d-41ae-97d0-b988dcb6e0ef",
   "metadata": {},
   "source": [
    "See https://gisgeography.com/ndvi-normalized-difference-vegetation-index/ for more information on NDVI"
   ]
  },
  {
   "cell_type": "code",
   "execution_count": null,
   "id": "6e7e4dd9-a74e-4776-a1d4-3b1f4b49ff1a",
   "metadata": {},
   "outputs": [],
   "source": [
    "data_scaled['ndvi'] = (data_scaled.nir08 - data_scaled.red)/(data_scaled.nir08 + data_scaled.red)\n",
    "data_scaled"
   ]
  },
  {
   "cell_type": "code",
   "execution_count": null,
   "id": "90a78e3c-f168-4e9e-b6ab-e9d07e01b51d",
   "metadata": {},
   "outputs": [],
   "source": [
    "data_scaled.ndvi.plot(vmin=0.25, vmax=0.75, cmap='summer_r', col='time', col_wrap=4, size=4, aspect=1)"
   ]
  },
  {
   "cell_type": "code",
   "execution_count": null,
   "id": "703a5bb6-6f1d-433f-8210-e20289d0ca32",
   "metadata": {},
   "outputs": [],
   "source": [
    "fig = data_scaled.ndvi.mean(dim=['x','y']).plot(figsize=(10,4))\n",
    "fig[0].axes.set_title('Monthly mean NDVI');\n",
    "fig[0].axes.set_xlabel('Date');\n",
    "fig[0].axes.set_ylabel('NDVI');"
   ]
  },
  {
   "cell_type": "code",
   "execution_count": null,
   "id": "db205576-69f3-40e7-b7bf-93a6f247124a",
   "metadata": {},
   "outputs": [],
   "source": [
    "data_scaled.ndvi.median(dim='time').plot(robust=True,cmap='summer_r',size=6,aspect=1)"
   ]
  },
  {
   "cell_type": "code",
   "execution_count": null,
   "id": "514f065d-d7dc-4c2b-a724-33b4bc7ef1e4",
   "metadata": {},
   "outputs": [],
   "source": [
    "# Export to GeoTIFF\n",
    "data_scaled.ndvi.mean(dim='time').rio.to_raster(\"ndvi_example.tif\")"
   ]
  },
  {
   "cell_type": "code",
   "execution_count": null,
   "id": "ac22690d-ff34-4a59-b6e7-9d2ae1a4ddaf",
   "metadata": {},
   "outputs": [],
   "source": [
    "# Export to CSV\n",
    "data_scaled.ndvi.mean(dim=['x','y']).to_dataframe().to_csv('ndvi_example.csv')"
   ]
  },
  {
   "cell_type": "markdown",
   "id": "64a398b8-d065-4c08-94de-41d858bd2378",
   "metadata": {},
   "source": [
    "### EXTRA... combining products and advanced analysis"
   ]
  },
  {
   "cell_type": "markdown",
   "id": "4b5ddb1c-2c95-4b84-9aec-1a5d975f8168",
   "metadata": {},
   "source": [
    "#### Load land cover data using the `like` parameter\n",
    "https://www.gep.uchile.cl/Landcover_CHILE.html"
   ]
  },
  {
   "cell_type": "code",
   "execution_count": null,
   "id": "7ae34414-9f20-49c6-b9d4-f5d110c63676",
   "metadata": {},
   "outputs": [],
   "source": [
    "landcover = dc.load(\n",
    "    product='landcover_chile_2014',\n",
    "    time='2014',\n",
    "    like=data)\n",
    "landcover"
   ]
  },
  {
   "cell_type": "code",
   "execution_count": null,
   "id": "94c8b77b-8fe4-4013-ac7a-ca31e1e791e5",
   "metadata": {},
   "outputs": [],
   "source": [
    "from matplotlib.colors import ListedColormap, BoundaryNorm\n",
    "from matplotlib.patches import Patch"
   ]
  },
  {
   "cell_type": "code",
   "execution_count": null,
   "id": "5e96848d-8a06-4d57-9402-f9cbaf6eef1f",
   "metadata": {},
   "outputs": [],
   "source": [
    "nivel_1 = landcover.nivel_1.squeeze()\n",
    "\n",
    "# Extract flags_definition\n",
    "flags_definition = nivel_1.attrs.get(\"flags_definition\", {}).get(\"data\", {})\n",
    "category_values = {int(key): name for key, name in flags_definition.get(\"values\", {}).items()}\n",
    "\n",
    "# Define colors for each category\n",
    "# Ensure colors cover all categories in the dataset\n",
    "landcover_colors = {\n",
    "    0: \"#FFFFFF\",  # no data\n",
    "    100: \"#DA984A\",  # Cultivos\n",
    "    200: \"#4B7A4E\",  # Bosques\n",
    "    300: \"#8FAE61\",  # Pastizales\n",
    "    400: \"#DBC369\",  # Matorrales\n",
    "    500: \"#7C88C2\",  # Humedales\n",
    "    600: \"#579BD8\",  # Cuerpos de Agua\n",
    "    700: \"#FFFF\",    # Empty\n",
    "    800: \"#B33826\",  # Superficies Impermeables\n",
    "    900: \"#A39B90\",  # Tierras desnudas\n",
    "    1000: \"#AFA1DC\",  # Hielo y Nieves\n",
    "    1100: \"#FFFF\",    # Empty\n",
    "    1200: \"#EBEBEB\"  # Nubes\n",
    "}\n",
    "\n",
    "# Map colors to categories in flags_definition\n",
    "colors = [landcover_colors[cat] for cat in sorted(category_values.keys())]\n",
    "\n",
    "# Create colormap and normalization\n",
    "cmap = ListedColormap(colors)\n",
    "bounds = sorted(category_values.keys()) + [max(category_values.keys()) + 100]\n",
    "norm = BoundaryNorm(bounds, cmap.N)\n",
    "\n",
    "# Create legend elements\n",
    "legend_elements = [\n",
    "    Patch(facecolor=landcover_colors[cat], edgecolor=\"black\", label=category_values[cat])\n",
    "    for cat in sorted(category_values.keys())\n",
    "]\n",
    "\n",
    "# Manually create the figure and axes\n",
    "fig, ax = plt.subplots(figsize=(8, 8))\n",
    "\n",
    "# Plot using xarray's built-in plot\n",
    "im = nivel_1.plot(\n",
    "    cmap=cmap,\n",
    "    norm=norm,\n",
    "    ax=ax,\n",
    "    add_colorbar=False\n",
    ")\n",
    "\n",
    "# Ensure the aspect ratio is correct\n",
    "ax.set_aspect('equal')  # Set the aspect ratio to 'equal' to reflect true dimensions\n",
    "\n",
    "# Add custom legend outside the main plot\n",
    "ax.legend(\n",
    "    handles=legend_elements,\n",
    "    loc=\"upper left\",\n",
    "    bbox_to_anchor=(1.05, 1),  # Position legend outside the plot\n",
    "    title=\"Categories\"\n",
    ")\n",
    "\n",
    "# Add labels and title\n",
    "ax.set_title(\"Land Cover Map - Nivel 1\")\n",
    "ax.set_xlabel(\"Longitude\")\n",
    "ax.set_ylabel(\"Latitude\")\n",
    "\n",
    "# Adjust layout to ensure space for the legend\n",
    "plt.tight_layout()\n",
    "plt.show()"
   ]
  },
  {
   "cell_type": "code",
   "execution_count": null,
   "id": "789ee338-7128-47c7-aa9f-499fd5c0ec48",
   "metadata": {},
   "outputs": [],
   "source": [
    "# Prepare to combine datasets\n",
    "ndvi = data_scaled.ndvi\n",
    "landcover_nivel_1 = landcover.nivel_1.squeeze() # This removes the time dimension (which only has one date and is not needed)\n",
    "ndvi = ndvi.fillna(-9999)  # Replace NaN in ndvi with a real value, e.g., -9999 to avoid errors\n",
    "\n",
    "# Create a version of landcover with the same dates as the ndvi data\n",
    "landcover_broadcasted = landcover_nivel_1.broadcast_like(ndvi)\n",
    "\n",
    "# Add the new multi-date landcover to the original data\n",
    "data_scaled['landcover']=landcover_broadcasted\n",
    "data_scaled"
   ]
  },
  {
   "cell_type": "code",
   "execution_count": null,
   "id": "493689f6-ea49-4aea-8bf7-6be26c49f240",
   "metadata": {},
   "outputs": [],
   "source": [
    "ndvi_masked = data_scaled.ndvi.where(landcover_broadcasted != 0, drop=False)\n",
    "ndvi_mean_by_landcover = ndvi_masked.groupby(data_scaled.landcover).mean(dim=[\"x\", \"y\"], fill_value=0)\n",
    "\n",
    "unique_landcover_values = sorted(set(ndvi_masked.groupby(data_scaled.landcover).groups.keys()))\n",
    "\n",
    "# Map the numeric landcover values to descriptive names\n",
    "landcover_categories = {\n",
    "    0: \"No data\",\n",
    "    100: \"Cultivos\",\n",
    "    200: \"Bosques\",\n",
    "    300: \"Pastizales\",\n",
    "    400: \"Matorrales\",\n",
    "    500: \"Humedales\",\n",
    "    600: \"Cuerpos de Agua\",\n",
    "    800: \"Superficies Impermeables\",\n",
    "    900: \"Tierras desnudas\",\n",
    "    1000: \"Hielo y Nieves\",\n",
    "    1200: \"Nubes\",\n",
    "}\n",
    "\n",
    "# Assign the descriptive names as a new coordinate\n",
    "ndvi_mean_by_landcover = ndvi_mean_by_landcover.assign_coords(\n",
    "    landcover_category=(\"landcover\", [landcover_categories.get(int(key), \"Unknown\") for key in unique_landcover_values])\n",
    ")\n",
    "ndvi_mean_by_landcover = ndvi_mean_by_landcover.where(\n",
    "    ndvi_mean_by_landcover.landcover > 0, drop=True\n",
    ").where(\n",
    "    ndvi_mean_by_landcover.landcover <= unique_landcover_values.index(500), drop=True\n",
    ")"
   ]
  },
  {
   "cell_type": "code",
   "execution_count": null,
   "id": "ade12b66-1983-4eab-b428-d1ca8ee91ea1",
   "metadata": {},
   "outputs": [],
   "source": [
    "ndvi_mean_by_landcover"
   ]
  },
  {
   "cell_type": "code",
   "execution_count": null,
   "id": "110906f3-e8a9-4249-a7b9-eb62e86734f4",
   "metadata": {},
   "outputs": [],
   "source": [
    "import matplotlib.pyplot as plt\n",
    "\n",
    "# Extract the data for plotting\n",
    "time = ndvi_mean_by_landcover['time'].values\n",
    "landcover_values = ndvi_mean_by_landcover['landcover_category'].values\n",
    "ndvi_values = ndvi_mean_by_landcover.values\n",
    "\n",
    "# Create the plot\n",
    "plt.figure(figsize=(12, 6))\n",
    "\n",
    "# Loop through each landcover category and plot its NDVI with the corresponding color\n",
    "for category in landcover_values:\n",
    "    landcover_val = list(landcover_categories.values()).index(category)\n",
    "    landcover_code = next((key for key, value in landcover_categories.items() if value == category), None)\n",
    "    color = landcover_colors.get(landcover_code, 'black')  # Default to black if category is missing\n",
    "    plt.plot(\n",
    "        ndvi_mean_by_landcover['time'],  # x-axis\n",
    "        ndvi_mean_by_landcover.sel(landcover=landcover_val),  # y-axis\n",
    "        label=category,\n",
    "        color=color,\n",
    "        linewidth=4\n",
    "    )\n",
    "\n",
    "# Add labels, legend, and title\n",
    "plt.xlabel('Time')\n",
    "plt.ylabel('NDVI')\n",
    "plt.title('NDVI Over Time by Landcover Category')\n",
    "plt.legend(title='Landcover Category', bbox_to_anchor=(1.05, 1), loc='upper left')\n",
    "plt.tight_layout()\n",
    "\n",
    "# Show the plot\n",
    "plt.show()"
   ]
  },
  {
   "cell_type": "code",
   "execution_count": null,
   "id": "81a0d71f-faef-445f-99d2-7885cb60d912",
   "metadata": {},
   "outputs": [],
   "source": [
    "ndvi_mean_by_landcover.to_dataframe().to_csv('ndvi_by_landuse.csv')"
   ]
  }
 ],
 "metadata": {
  "kernelspec": {
   "display_name": "Python 3 (ipykernel)",
   "language": "python",
   "name": "python3"
  },
  "language_info": {
   "codemirror_mode": {
    "name": "ipython",
    "version": 3
   },
   "file_extension": ".py",
   "mimetype": "text/x-python",
   "name": "python",
   "nbconvert_exporter": "python",
   "pygments_lexer": "ipython3",
   "version": "3.12.7"
  }
 },
 "nbformat": 4,
 "nbformat_minor": 5
}
